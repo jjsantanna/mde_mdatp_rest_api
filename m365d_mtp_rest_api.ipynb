{
 "cells": [
  {
   "cell_type": "markdown",
   "metadata": {},
   "source": [
    "# Playing with Microsoft 365 Defender (M365D) (old MTP) REST API\n",
    "https://docs.microsoft.com/en-us/microsoft-365/security/mtp/api-supported?view=o365-worldwide"
   ]
  },
  {
   "cell_type": "markdown",
   "metadata": {},
   "source": [
    "Requirements: the APP should have the following 'API permissions':\n",
    "- Microsoft Threat Protection:\n",
    "  - AdvancedHunting.Read\n",
    "  - Incident.Read\n",
    "\n",
    "**VERY** Important either the global admin allows these list of API permission OR you should give a link to him/her (NOTE to change the app clientid) :\n",
    "$https://login.microsoftonline.com/common/oauth2/authorize?prompt=consent&client_id=<HERE-THE-CLIENT-ID>&response_type=code&sso_reload=true$\n",
    "\n",
    "\n",
    "This REST API have 2 exposed APIs. We show bellow the link to each individual exposed API. Each API have multiple methods. \n",
    "\n",
    "|#|Topic|Description|Link|\n",
    "|:-|:-|:-|:-|\n",
    "|1|Advanced Hunting|Run queries from API.|[link](https://docs.microsoft.com/en-us/microsoft-365/security/mtp/api-advanced-hunting?view=o365-worldwide)|\n",
    "|2|Incident |List and update incidents, along with other practical tasks.|[link](https://docs.microsoft.com/en-us/microsoft-365/security/mtp/api-incident?view=o365-worldwide)|\n"
   ]
  },
  {
   "cell_type": "markdown",
   "metadata": {},
   "source": [
    "# Required information"
   ]
  },
  {
   "cell_type": "code",
   "execution_count": 1,
   "metadata": {},
   "outputs": [],
   "source": [
    "appId=''\n",
    "tenantId=''\n",
    "appSecret=''"
   ]
  },
  {
   "cell_type": "markdown",
   "metadata": {},
   "source": [
    "# Required libraries"
   ]
  },
  {
   "cell_type": "code",
   "execution_count": null,
   "metadata": {},
   "outputs": [],
   "source": [
    "import pandas as pd\n",
    "import json\n",
    "import urllib.parse"
   ]
  },
  {
   "cell_type": "markdown",
   "metadata": {},
   "source": [
    "<h1 align='center'>========================================================<br>=======================================================</h1>"
   ]
  },
  {
   "cell_type": "markdown",
   "metadata": {},
   "source": [
    "# Function to get the token to access via the app"
   ]
  },
  {
   "cell_type": "code",
   "execution_count": null,
   "metadata": {},
   "outputs": [],
   "source": [
    "def m365d_getaadtoken(tenantId, appId, appSecret):\n",
    "    url = \"https://login.windows.net/%s/oauth2/token\" % (tenantId)\n",
    "    resourceAppIdUri = 'https://api.security.microsoft.com'\n",
    "    body = {\n",
    "        'resource' : resourceAppIdUri,\n",
    "        'client_id' : appId,\n",
    "        'client_secret' : appSecret,\n",
    "        'grant_type' : 'client_credentials'\n",
    "    }\n",
    "    data = urllib.parse.urlencode(body).encode(\"utf-8\")\n",
    "    req = urllib.request.Request(url, data)\n",
    "    response = urllib.request.urlopen(req)\n",
    "    jsonResponse = json.loads(response.read())\n",
    "    aadToken = jsonResponse[\"access_token\"]\n",
    "    return aadToken"
   ]
  },
  {
   "cell_type": "code",
   "execution_count": null,
   "metadata": {},
   "outputs": [],
   "source": [
    "access_token = m365d_getaadtoken(tenantId, appId, appSecret)"
   ]
  },
  {
   "cell_type": "markdown",
   "metadata": {},
   "source": [
    "<h1 align='center'>========================================================<br>=======================================================<br> ADVANCED HUNTING API</h1>\n",
    "\n",
    "https://docs.microsoft.com/en-us/microsoft-365/security/mtp/api-advanced-hunting?view=o365-worldwide\n",
    "\n",
    "Note: this API is the same as the of from the MDE/MDATP. Examples of queries [here!](https://github.com/microsoft/Microsoft-365-Defender-Hunting-Queries)"
   ]
  },
  {
   "cell_type": "markdown",
   "metadata": {},
   "source": [
    "# Function Run (KQL)"
   ]
  },
  {
   "cell_type": "code",
   "execution_count": null,
   "metadata": {},
   "outputs": [],
   "source": [
    "def mde_advancedquery_run(access_token,kql_query):\n",
    "    url = \"https://api.securitycenter.microsoft.com/api/advancedqueries/run\"\n",
    "    req = urllib.request.Request(url, \n",
    "                                 headers={'Authorization' : \"Bearer \" + access_token, 'Content-Type':'application/json'},\n",
    "                                 data=bytes(json.dumps({\"Query\": kql_query}), encoding=\"utf-8\"))\n",
    "    response = urllib.request.urlopen(req)\n",
    "    jsonResponse = json.loads(response.read())\n",
    "    return pd.DataFrame.from_records(jsonResponse['Results'])"
   ]
  },
  {
   "cell_type": "markdown",
   "metadata": {},
   "source": [
    "# Example of instantiating this function"
   ]
  },
  {
   "cell_type": "code",
   "execution_count": null,
   "metadata": {},
   "outputs": [],
   "source": [
    "kql_query = '''\n",
    "AlertInfo\n",
    "|where Timestamp > ago (30d)\n",
    "'''"
   ]
  },
  {
   "cell_type": "code",
   "execution_count": null,
   "metadata": {},
   "outputs": [],
   "source": [
    "mde_advancedquery_run(access_token,kql_query)"
   ]
  },
  {
   "cell_type": "markdown",
   "metadata": {},
   "source": [
    "<h1 align='center'>========================================================<br>=======================================================<br>INCIDENT API</h1>\n",
    "\n",
    "List of methods in the Incident API (https://docs.microsoft.com/en-us/microsoft-365/security/mtp/api-incident?view=o365-worldwide"
   ]
  },
  {
   "cell_type": "markdown",
   "metadata": {},
   "source": [
    "|Method\t| Return Type |Description  |\n",
    "|:- |:-|:-|\n",
    "|List incidents|\tIncident list|\tGet a list of incidents.|\n",
    "|Update incident|\tIncident|\tUpdate a specific incident.|"
   ]
  },
  {
   "cell_type": "markdown",
   "metadata": {},
   "source": [
    "## METHOD List incidents"
   ]
  },
  {
   "cell_type": "code",
   "execution_count": null,
   "metadata": {},
   "outputs": [],
   "source": [
    "def m365d_incidents_listincidents(access_token):\n",
    "    url = \"https://api.security.microsoft.com/api/incidents\"\n",
    "    req = urllib.request.Request(url, headers={'Authorization' : \"Bearer \" + access_token})\n",
    "    response = urllib.request.urlopen(req)\n",
    "    jsonResponse = json.loads(response.read())\n",
    "    return pd.DataFrame.from_records(jsonResponse['value'])"
   ]
  },
  {
   "cell_type": "code",
   "execution_count": null,
   "metadata": {},
   "outputs": [],
   "source": [
    "df_incidents = m365d_incidents_listincidents(access_token)\n",
    "df_incidents"
   ]
  },
  {
   "cell_type": "markdown",
   "metadata": {},
   "source": [
    "<h1 align='center'>...........................................................</h1>"
   ]
  },
  {
   "cell_type": "markdown",
   "metadata": {},
   "source": [
    "## METHOD Update incident"
   ]
  },
  {
   "cell_type": "code",
   "execution_count": null,
   "metadata": {},
   "outputs": [],
   "source": [
    "def m365d_incidents_updateincidents(access_token,incident_id):\n",
    "    url = \"https://api.security.microsoft.com/api/incidents/\"+str(incident_id)\n",
    "    req = urllib.request.Request(url, headers={'Authorization' : \"Bearer \" + access_token})\n",
    "    response = urllib.request.urlopen(req)\n",
    "    jsonResponse = json.loads(response.read())\n",
    "    return jsonResponse"
   ]
  },
  {
   "cell_type": "code",
   "execution_count": null,
   "metadata": {},
   "outputs": [],
   "source": [
    "m365d_incidents_updateincidents(access_token,df_incidents['id'][0])"
   ]
  }
 ],
 "metadata": {
  "kernelspec": {
   "display_name": "Python 3",
   "language": "python",
   "name": "python3"
  },
  "language_info": {
   "codemirror_mode": {
    "name": "ipython",
    "version": 3
   },
   "file_extension": ".py",
   "mimetype": "text/x-python",
   "name": "python",
   "nbconvert_exporter": "python",
   "pygments_lexer": "ipython3",
   "version": "3.8.6"
  }
 },
 "nbformat": 4,
 "nbformat_minor": 4
}
