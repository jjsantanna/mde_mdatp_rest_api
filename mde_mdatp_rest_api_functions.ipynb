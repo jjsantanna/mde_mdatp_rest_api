{
 "cells": [
  {
   "cell_type": "markdown",
   "metadata": {},
   "source": [
    "# Microsoft Defender for Endpoint (MDE) (previously MDATP) REST API FUN"
   ]
  },
  {
   "cell_type": "markdown",
   "metadata": {},
   "source": [
    "- DOCUMENTATION on an introduction to the MDE/MDATP REST API: [here!](https://docs.microsoft.com/en-us/windows/security/threat-protection/microsoft-defender-atp/apis-intro)\n",
    "- BLOG on Automating Security Operations Using Windows Defender ATP APIs with Python and Jupyter Notebooks: [here!](https://techcommunity.microsoft.com/t5/microsoft-defender-for-endpoint/automating-security-operations-using-windows-defender-atp-apis/ba-p/294434)\n",
    "- DOCUMENTATION on the list of exposed MDE/MDATP APIs: [here!](https://docs.microsoft.com/en-us/windows/security/threat-protection/microsoft-defender-atp/exposed-apis-list)\n",
    "    - NOTE: there are multiple versions of the API!\n",
    "\n",
    "|#|Topic|Description|Link|\n",
    "|:-|:-|:-|:-|\n",
    "|1|Advanced Hunting|Run queries from API.|[link](https://docs.microsoft.com/en-us/windows/security/threat-protection/microsoft-defender-atp/run-advanced-query-api)|\n",
    "|2|Alerts|Run API calls such as get alerts, create alert, update alert and more.|[link](https://docs.microsoft.com/en-us/windows/security/threat-protection/microsoft-defender-atp/alerts)|\n",
    "|3|Domains|Run API calls such as get domain-related devices, domain statistics and more.|[link](https://docs.microsoft.com/en-us/windows/security/threat-protection/microsoft-defender-atp/get-domain-related-alerts)|\n",
    "|4|Files|Run API calls such as get file information, file related alerts, file related devices, and file statistics.|[link](https://docs.microsoft.com/en-us/windows/security/threat-protection/microsoft-defender-atp/files)|\n",
    "|5|IPs|Run API calls such as get IP-related alerts and get IP statistics.|[link](https://docs.microsoft.com/en-us/windows/security/threat-protection/microsoft-defender-atp/get-ip-related-alerts)|\n",
    "|6|Machines|Run API calls such as get devices, get devices by ID, information about logged on users, edit tags and more.|[link](https://docs.microsoft.com/en-us/windows/security/threat-protection/microsoft-defender-atp/machine)|\n",
    "|7|Machine Actions|Run API call such as Isolation, Run anti-virus scan and more.|[link](https://docs.microsoft.com/en-us/windows/security/threat-protection/microsoft-defender-atp/machineaction)|\n",
    "|8|Indicators|Run API call such as create Indicator, get Indicators and delete Indicators.|[link](https://docs.microsoft.com/en-us/windows/security/threat-protection/microsoft-defender-atp/ti-indicator)|\n",
    "|9|Users|Run API calls such as get user-related alerts and user-related devices.|[link](https://docs.microsoft.com/en-us/windows/security/threat-protection/microsoft-defender-atp/user)|\n",
    "|10|Score|Run API calls such as get exposure score or get device secure score.|[link](https://docs.microsoft.com/en-us/windows/security/threat-protection/microsoft-defender-atp/score)|\n",
    "|11|Software|Run API calls such as list vulnerabilities by software.|[link](https://docs.microsoft.com/en-us/windows/security/threat-protection/microsoft-defender-atp/software)|\n",
    "|12|Vulnerability|Run API calls such as list devices by vulnerability.|[link](https://docs.microsoft.com/en-us/windows/security/threat-protection/microsoft-defender-atp/vulnerability)|\n",
    "|13|Recommendation|Run API calls such as Get recommendation by ID.|[link](https://docs.microsoft.com/en-us/windows/security/threat-protection/microsoft-defender-atp/recommendation)|\n",
    "\n",
    "Each one of those exposed APIs has multiple functions!"
   ]
  },
  {
   "cell_type": "markdown",
   "metadata": {},
   "source": [
    "## Requirements for accessing a MDE via REST API"
   ]
  },
  {
   "cell_type": "markdown",
   "metadata": {},
   "source": [
    "To access the MDE of someone (ex. a customer) you need to:\n",
    "1. Create an App in the Azure AD. An easy documentation [HERE!](https://docs.microsoft.com/en-us/windows/security/threat-protection/microsoft-defender-atp/exposed-apis-create-app-partners)\n",
    "After setting-up the App, check in the overview the following info: (1) Application (client) ID, (2) Directory (tenant) ID, and (3) Secret value\n",
    "\n",
    "3. VERY IMPORTANT. The global admin should give you consent to access the App (client_id): $https://login.microsoftonline.com/common/oauth2/authorize?prompt=consent&client_id=<HERE-THE-CLIENT-ID>&response_type=code&sso_reload=true$"
   ]
  },
  {
   "cell_type": "markdown",
   "metadata": {},
   "source": [
    "## Python libraries used"
   ]
  },
  {
   "cell_type": "code",
   "execution_count": 1,
   "metadata": {},
   "outputs": [],
   "source": [
    "import pandas as pd\n",
    "import json\n",
    "import urllib.parse"
   ]
  },
  {
   "cell_type": "markdown",
   "metadata": {},
   "source": [
    "<h1 align='center'>=====================================<br>VERY IMPORTANT<br>ALL FUNCTIONS DEPENDS ON THIS ACCESS TOKEN!!</h1>"
   ]
  },
  {
   "cell_type": "markdown",
   "metadata": {},
   "source": [
    "## FUNCTION mde_getaadtoken()"
   ]
  },
  {
   "cell_type": "code",
   "execution_count": 2,
   "metadata": {},
   "outputs": [],
   "source": [
    "def mde_getaadtoken(tenantId, appId, appSecret):\n",
    "    url = \"https://login.windows.net/%s/oauth2/token\" % (tenantId)\n",
    "    resourceAppIdUri = 'https://api.securitycenter.windows.com'\n",
    "    body = {\n",
    "        'resource' : resourceAppIdUri,\n",
    "        'client_id' : appId,\n",
    "        'client_secret' : appSecret,\n",
    "        'grant_type' : 'client_credentials'\n",
    "    }\n",
    "    data = urllib.parse.urlencode(body).encode(\"utf-8\")\n",
    "    req = urllib.request.Request(url, data)\n",
    "    response = urllib.request.urlopen(req)\n",
    "    jsonResponse = json.loads(response.read())\n",
    "    aadToken = jsonResponse[\"access_token\"]\n",
    "    return aadToken"
   ]
  },
  {
   "cell_type": "markdown",
   "metadata": {},
   "source": [
    "<h1 align='center'>=====================================<br>ALERT API<br>https://docs.microsoft.com/en-us/windows/security/threat-protection/microsoft-defender-atp/alerts</h1>"
   ]
  },
  {
   "cell_type": "markdown",
   "metadata": {},
   "source": [
    "|Method\t| Return Type |Description  |\n",
    "|:- |:-|:-|\n",
    "|Get alert|\tAlert|\tGet a single alert object.|\n",
    "|List alerts|\tAlert| collection\tList alert collection.|\n",
    "|Update alert|\tAlert|\tUpdate specific alert.|\n",
    "|Create alert|\tAlert|\tCreate an alert based on event data obtained from Advanced Hunting.|\n",
    "|List related domains|\tDomain collection|\tList URLs associated with the alert.|\n",
    "|List related files|\tFile collection|\tList the file entities that are associated with the alert.|\n",
    "|List related IPs|\tIP collection|\tList IPs that are associated with the alert.|\n",
    "|Get related machines|\tMachine|\tThe machine that is associated with the alert.|\n",
    "|Get related users|\tUser|\tThe user that is associated with the alert.|"
   ]
  },
  {
   "cell_type": "markdown",
   "metadata": {},
   "source": [
    "## FUNCTION get_alert"
   ]
  },
  {
   "cell_type": "code",
   "execution_count": 11,
   "metadata": {},
   "outputs": [],
   "source": [
    "def mde_alerts_getalert(access_token,alert_id):\n",
    "    url = \"https://api.securitycenter.windows.com/api/alerts/\"+str(alert_id)\n",
    "    req = urllib.request.Request(url, headers={'Authorization' : \"Bearer \" + access_token})\n",
    "    response = urllib.request.urlopen(req)\n",
    "    jsonResponse = json.loads(response.read())\n",
    "    return pd.DataFrame.from_dict(jsonResponse,orient='index').transpose()"
   ]
  },
  {
   "cell_type": "markdown",
   "metadata": {},
   "source": [
    "## FUNCTION list_alerts"
   ]
  },
  {
   "cell_type": "code",
   "execution_count": 12,
   "metadata": {},
   "outputs": [],
   "source": [
    "def mde_alerts_listalerts(access_token):\n",
    "    url = \"https://api.securitycenter.windows.com/api/alerts\"\n",
    "    req = urllib.request.Request(url, headers={'Authorization' : \"Bearer \" + access_token})\n",
    "    response = urllib.request.urlopen(req)\n",
    "    jsonResponse = json.loads(response.read())\n",
    "    return pd.DataFrame.from_records(jsonResponse['value'])"
   ]
  },
  {
   "cell_type": "markdown",
   "metadata": {},
   "source": [
    "## FUNCTION get_related_machines()"
   ]
  },
  {
   "cell_type": "code",
   "execution_count": 18,
   "metadata": {},
   "outputs": [],
   "source": [
    "def mde_alerts_getrelatedmachines(access_token,alarm_id):\n",
    "    url = \"https://api.securitycenter.windows.com/api/alerts/\"+str(alarm_id)+\"/machine\"\n",
    "    req = urllib.request.Request(url, headers={'Authorization' : \"Bearer \" + access_token})\n",
    "    response = urllib.request.urlopen(req)\n",
    "    jsonResponse = json.loads(response.read())\n",
    "    return pd.DataFrame.from_dict(jsonResponse,orient='index').transpose()"
   ]
  },
  {
   "cell_type": "markdown",
   "metadata": {},
   "source": [
    "<h1 align='center'>=====================================<br>ADVANCED HUNTING API<br>https://docs.microsoft.com/en-us/windows/security/threat-protection/microsoft-defender-atp/run-advanced-query-api</h1>"
   ]
  },
  {
   "cell_type": "code",
   "execution_count": 20,
   "metadata": {},
   "outputs": [],
   "source": [
    "def mde_advancedquery_run(access_token,kql_query):\n",
    "    url = \"https://api.securitycenter.microsoft.com/api/advancedqueries/run\"\n",
    "    req = urllib.request.Request(url, \n",
    "                                 headers={'Authorization' : \"Bearer \" + access_token, 'Content-Type':'application/json'},\n",
    "                                 data=bytes(json.dumps({\"Query\": kql_query}), encoding=\"utf-8\"))\n",
    "    response = urllib.request.urlopen(req)\n",
    "    jsonResponse = json.loads(response.read())\n",
    "    return pd.DataFrame.from_records(jsonResponse['Results'])"
   ]
  },
  {
   "cell_type": "markdown",
   "metadata": {},
   "source": [
    "<h1 align='center'>=====================================<br>MACHINE API<br>https://docs.microsoft.com/en-us/windows/security/threat-protection/microsoft-defender-atp/machine</h1>"
   ]
  },
  {
   "cell_type": "markdown",
   "metadata": {},
   "source": [
    "|Method|\tReturn Type|\tDescription|\n",
    "|:- |:-|:-|\n",
    "|List machines|\tmachine collection|\tList set of machine entities in the org.|\n",
    "|Get machine|\tmachine\t|Get a machine by its identity.|\n",
    "|Get logged on users|\tuser collection|\tGet the set of User that logged on to the machine.|\n",
    "|Get related alerts\t|alert collection|\tGet the set of alert entities that were raised on the machine.|\n",
    "|Get installed software|\tsoftware collection|\tRetrieves a collection of installed software related to a given machine ID.|\n",
    "|Get discovered vulnerabilities|\tvulnerability collection|\tRetrieves a collection of discovered vulnerabilities related to a given machine ID.|\n",
    "|Get security recommendations|\trecommendation collection|\tRetrieves a collection of security recommendations related to a given machine ID.|\n",
    "|Add or Remove machine tags|\tmachine|\tAdd or Remove tag to a specific machine.|\n",
    "|Find machines by IP|\tmachine collection|\tFind machines seen with IP.|\n",
    "|Find machines by tag|\tmachine collection|\tFind machines by Tag.|\n",
    "|Get missing KBs|\tKB collection|\tGet a list of missing KBs associated with the machine ID.|\n",
    "|Set device value|\tmachine collection|\tSet the value of a device.|"
   ]
  },
  {
   "cell_type": "code",
   "execution_count": 23,
   "metadata": {},
   "outputs": [],
   "source": [
    "def mde_machines_listmachines(access_token):\n",
    "    url = \"https://api.securitycenter.microsoft.com/api/machines\"\n",
    "    req = urllib.request.Request(url, headers={'Authorization' : \"Bearer \" + access_token})\n",
    "    response = urllib.request.urlopen(req)\n",
    "    jsonResponse = json.loads(response.read())\n",
    "    return pd.DataFrame.from_records(jsonResponse['value'])"
   ]
  }
 ],
 "metadata": {
  "kernelspec": {
   "display_name": "Python 3",
   "language": "python",
   "name": "python3"
  },
  "language_info": {
   "codemirror_mode": {
    "name": "ipython",
    "version": 3
   },
   "file_extension": ".py",
   "mimetype": "text/x-python",
   "name": "python",
   "nbconvert_exporter": "python",
   "pygments_lexer": "ipython3",
   "version": "3.8.6"
  }
 },
 "nbformat": 4,
 "nbformat_minor": 4
}
