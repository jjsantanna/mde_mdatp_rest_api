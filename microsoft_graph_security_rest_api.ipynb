{
 "cells": [
  {
   "cell_type": "markdown",
   "id": "available-defense",
   "metadata": {},
   "source": [
    "# Playing with Microsoft Graph Security (via REST API and APP)\n",
    "(https://docs.microsoft.com/en-us/graph/api/resources/security-api-overview?view=graph-rest-1.0)\n",
    "\n",
    "- Requirement: the APP should have the following 'API permissions': \n",
    " - Microsoft Graph:\n",
    "   - SecurityEvents.Read.All (for reading alarms, secure scores, secureScoreControlProfiles)\n",
    "   - ThreatAssessment.Read.All (for reading threat assessments)"
   ]
  },
  {
   "cell_type": "markdown",
   "id": "other-division",
   "metadata": {},
   "source": [
    "<h1 align='center'>=======================================================<br>=======================================================</h1>"
   ]
  },
  {
   "cell_type": "markdown",
   "id": "broadband-regard",
   "metadata": {},
   "source": [
    "# Required information"
   ]
  },
  {
   "cell_type": "code",
   "execution_count": null,
   "id": "bibliographic-burst",
   "metadata": {},
   "outputs": [],
   "source": [
    "appId = '' \n",
    "tenantId = ''\n",
    "appSecret = '' \n",
    "subscription_id = '' #zuidgolf"
   ]
  },
  {
   "cell_type": "markdown",
   "id": "forward-symbol",
   "metadata": {},
   "source": [
    "# Required Libraries"
   ]
  },
  {
   "cell_type": "code",
   "execution_count": null,
   "id": "quarterly-pantyhose",
   "metadata": {},
   "outputs": [],
   "source": [
    "import pandas as pd\n",
    "import matplotlib.pyplot as plt\n",
    "import numpy as np\n",
    "import json\n",
    "import urllib.parse\n",
    "pd.set_option('display.max_columns', None)"
   ]
  },
  {
   "cell_type": "markdown",
   "id": "faced-alfred",
   "metadata": {},
   "source": [
    "<h1 align='center'>=======================================================<br>=======================================================</h1>"
   ]
  },
  {
   "cell_type": "markdown",
   "id": "julian-child",
   "metadata": {},
   "source": [
    "# Function to get the token to access via the app"
   ]
  },
  {
   "cell_type": "code",
   "execution_count": null,
   "id": "statewide-prague",
   "metadata": {},
   "outputs": [],
   "source": [
    "def getaadtoken(tenantId, appId, appSecret):\n",
    "    url = \"https://login.windows.net/%s/oauth2/token\" % (tenantId)\n",
    "    resourceAppIdUri = 'https://graph.microsoft.com'\n",
    "    body = {\n",
    "        'resource' : resourceAppIdUri,\n",
    "        'client_id' : appId,\n",
    "        'client_secret' : appSecret,\n",
    "        'grant_type' : 'client_credentials'\n",
    "    }\n",
    "    data = urllib.parse.urlencode(body).encode(\"utf-8\")\n",
    "    req = urllib.request.Request(url, data)\n",
    "    response = urllib.request.urlopen(req)\n",
    "    jsonResponse = json.loads(response.read())\n",
    "    aadToken = jsonResponse[\"access_token\"]\n",
    "    return aadToken"
   ]
  },
  {
   "cell_type": "markdown",
   "id": "framed-surface",
   "metadata": {},
   "source": [
    "# Instantiating previous function"
   ]
  },
  {
   "cell_type": "code",
   "execution_count": null,
   "id": "returning-diameter",
   "metadata": {},
   "outputs": [],
   "source": [
    "access_token = getaadtoken(tenantId, appId, appSecret)"
   ]
  },
  {
   "cell_type": "markdown",
   "id": "parliamentary-bhutan",
   "metadata": {},
   "source": [
    "<h1 align='center'>=======================================================<br>=======================================================</h1>"
   ]
  },
  {
   "cell_type": "markdown",
   "id": "statewide-objective",
   "metadata": {},
   "source": [
    "# Function to get the list of alerts\n",
    "https://docs.microsoft.com/en-us/rest/api/azureresourcegraph/resourcegraph(2019-04-01)/resources"
   ]
  },
  {
   "cell_type": "code",
   "execution_count": null,
   "id": "solved-throat",
   "metadata": {},
   "outputs": [],
   "source": [
    "def securitygraph_listalerts(access_token):\n",
    "    url = \"https://graph.microsoft.com/v1.0/security/alerts\"\n",
    "    req = urllib.request.Request(url, headers={'Authorization' : \"Bearer \" + access_token, 'Content-Type':'application/json'})\n",
    "    response = urllib.request.urlopen(req)\n",
    "    jsonResponse = json.loads(response.read())\n",
    "    return pd.DataFrame.from_records(jsonResponse['value'])"
   ]
  },
  {
   "cell_type": "markdown",
   "id": "crucial-collar",
   "metadata": {},
   "source": [
    "# Instantiating previous function"
   ]
  },
  {
   "cell_type": "code",
   "execution_count": null,
   "id": "taken-wheel",
   "metadata": {},
   "outputs": [],
   "source": [
    "df_alerts = securitygraph_listalerts(access_token)"
   ]
  },
  {
   "cell_type": "markdown",
   "id": "athletic-withdrawal",
   "metadata": {},
   "source": [
    "# Extending the provider name"
   ]
  },
  {
   "cell_type": "code",
   "execution_count": null,
   "id": "searching-dynamics",
   "metadata": {},
   "outputs": [],
   "source": [
    "df_alerts['provider'] = df_alerts['vendorInformation'].apply(lambda x: x['provider'])"
   ]
  },
  {
   "cell_type": "markdown",
   "id": "muslim-integrity",
   "metadata": {},
   "source": [
    "# How many alerts are related to what security provider?"
   ]
  },
  {
   "cell_type": "code",
   "execution_count": null,
   "id": "collect-volume",
   "metadata": {},
   "outputs": [],
   "source": [
    "df_alerts['provider'].value_counts()"
   ]
  },
  {
   "cell_type": "markdown",
   "id": "willing-chosen",
   "metadata": {},
   "source": [
    "<h1 align='center'>========================================================<br>=======================================================<br>INFORMATION PROTECTION: THREAT ASSESSMENT API</h1>"
   ]
  },
  {
   "cell_type": "markdown",
   "id": "martial-fancy",
   "metadata": {},
   "source": [
    "https://docs.microsoft.com/en-us/graph/api/resources/threatassessment-api-overview?view=graph-rest-1.0\n",
    "\n",
    "|Method|\tReturn Type|\tDescription|\n",
    "|:-|:-|:-|\n",
    "|List threatAssessmentRequest|\tthreatAssessmentRequest collection|\tList all threat assessment requests under tenant.|\n",
    "|Create threatAssessmentRequest|\tthreatAssessmentRequest\t|Create a new threat assessment request by posting a derived resource type: mailAssessmentRequest, emailFileAssessmentRequest, fileAssessmentRequest, urlAssessmentRequest.|\n",
    "|Get threatAssessmentRequest|\tthreatAssessmentRequest|\tRetrieve the properties and relationships of a specified threatAssessmentRequest resource.|"
   ]
  },
  {
   "cell_type": "markdown",
   "id": "medical-theory",
   "metadata": {},
   "source": [
    "# Function to get the list o threat assessment requested"
   ]
  },
  {
   "cell_type": "code",
   "execution_count": null,
   "id": "blessed-reward",
   "metadata": {},
   "outputs": [],
   "source": [
    "def securitygraph_listthreatassessmentrequest(access_token):\n",
    "    url = \"https://graph.microsoft.com/v1.0/informationProtection/threatAssessmentRequests\"\n",
    "    req = urllib.request.Request(url, headers={'Authorization' : \"Bearer \" + access_token, 'Content-Type':'application/json'})\n",
    "    response = urllib.request.urlopen(req)\n",
    "    jsonResponse = json.loads(response.read())\n",
    "    return pd.DataFrame.from_records(jsonResponse['value'])"
   ]
  },
  {
   "cell_type": "markdown",
   "id": "critical-priority",
   "metadata": {},
   "source": [
    "# Instantiating the previous function"
   ]
  },
  {
   "cell_type": "code",
   "execution_count": null,
   "id": "dramatic-newfoundland",
   "metadata": {},
   "outputs": [],
   "source": [
    "df_threatassessmentrequests = securitygraph_listthreatassessmentrequest(access_token)"
   ]
  },
  {
   "cell_type": "markdown",
   "id": "pressing-lending",
   "metadata": {},
   "source": [
    "# What is the list of requested threat assessments?"
   ]
  },
  {
   "cell_type": "code",
   "execution_count": null,
   "id": "israeli-dictionary",
   "metadata": {},
   "outputs": [],
   "source": [
    "df_threatassessmentrequests"
   ]
  },
  {
   "cell_type": "markdown",
   "id": "charitable-medicine",
   "metadata": {},
   "source": [
    "<h1 align='center'>========================================================<br>=======================================================<br>SECURE SCORES API</h1>"
   ]
  },
  {
   "cell_type": "markdown",
   "id": "exact-breathing",
   "metadata": {},
   "source": [
    "https://docs.microsoft.com/en-us/graph/api/resources/securescore?view=graph-rest-1.0\n",
    "\n",
    "|Method|\tReturn Type|\tDescription|\n",
    "|:-|:-|:-|\n",
    "|List secureScores|\tsecureScores collection|\tGet secureScore object collection.|\n",
    "|Get secureScore|\tsecureScore|\tRead properties and metadata of a secureScore object."
   ]
  },
  {
   "cell_type": "markdown",
   "id": "headed-mission",
   "metadata": {},
   "source": [
    "# Function list secure scores"
   ]
  },
  {
   "cell_type": "code",
   "execution_count": null,
   "id": "underlying-floor",
   "metadata": {},
   "outputs": [],
   "source": [
    "def securitygraph_listsecurescores(access_token):\n",
    "    url = \"https://graph.microsoft.com/v1.0/security/secureScores\"\n",
    "    req = urllib.request.Request(url, headers={'Authorization' : \"Bearer \" + access_token, 'Content-Type':'application/json'})\n",
    "    response = urllib.request.urlopen(req)\n",
    "    jsonResponse = json.loads(response.read())\n",
    "    return pd.DataFrame.from_records(jsonResponse['value'])"
   ]
  },
  {
   "cell_type": "markdown",
   "id": "confident-therapist",
   "metadata": {},
   "source": [
    "# Instantiating the previous function"
   ]
  },
  {
   "cell_type": "code",
   "execution_count": null,
   "id": "missing-diana",
   "metadata": {},
   "outputs": [],
   "source": [
    "df_securescores = securitygraph_listsecurescores(access_token)"
   ]
  },
  {
   "cell_type": "markdown",
   "id": "electrical-market",
   "metadata": {},
   "source": [
    "# How the secure score looks like?"
   ]
  },
  {
   "cell_type": "code",
   "execution_count": null,
   "id": "asian-eligibility",
   "metadata": {},
   "outputs": [],
   "source": [
    "df_securescores.head(2)"
   ]
  },
  {
   "cell_type": "code",
   "execution_count": null,
   "id": "suspected-transfer",
   "metadata": {},
   "outputs": [],
   "source": [
    "pd.set_option('display.max_colwidth', 30)"
   ]
  },
  {
   "cell_type": "markdown",
   "id": "quality-singer",
   "metadata": {},
   "source": [
    "# Detailing 1 day of securite scores"
   ]
  },
  {
   "cell_type": "code",
   "execution_count": null,
   "id": "fleet-catalyst",
   "metadata": {},
   "outputs": [],
   "source": [
    "securescore_lastday = pd.DataFrame(df_securescores['controlScores'][0])"
   ]
  },
  {
   "cell_type": "code",
   "execution_count": null,
   "id": "framed-communist",
   "metadata": {},
   "outputs": [],
   "source": [
    "securescore_lastday"
   ]
  },
  {
   "cell_type": "markdown",
   "id": "equal-strategy",
   "metadata": {},
   "source": [
    "**NOTE:** Based on the previous table, the secure score is based on 32 items"
   ]
  },
  {
   "cell_type": "code",
   "execution_count": null,
   "id": "smooth-moore",
   "metadata": {},
   "outputs": [],
   "source": [
    "securescore_lastday['controlCategory'].value_counts()"
   ]
  },
  {
   "cell_type": "markdown",
   "id": "single-update",
   "metadata": {},
   "source": [
    "<h1 align='center'>========================================================<br>=======================================================<br>SECURE SCORE CONTROL PROFILES API</h1>"
   ]
  },
  {
   "cell_type": "markdown",
   "id": "varying-bennett",
   "metadata": {},
   "source": [
    "https://docs.microsoft.com/en-us/graph/api/resources/securescorecontrolprofile?view=graph-rest-1.0\n",
    "\n",
    "|Method|\tReturn Type|\tDescription|\n",
    "|:-|:-|:-|\n",
    "|List secureScoreControlProfiles|\tsecureScoreControlProfile|\tRead properties and metadata of a secureScoreControlProfiles object.|\n",
    "|Get secureScoreControlProfile|\tsecurescorecontrolprofile|\tRead properties and metadata of a secureScoreControlProfiles object.|\n",
    "|Update securescorecontrolprofile|\tsecurescorecontrolprofile|\tUpdate an securescorecontrolprofile object.|\n",
    "\n",
    "    "
   ]
  },
  {
   "cell_type": "markdown",
   "id": "numerical-monitor",
   "metadata": {},
   "source": [
    "# Function to get a list of secure score control profiles"
   ]
  },
  {
   "cell_type": "code",
   "execution_count": null,
   "id": "dedicated-absorption",
   "metadata": {},
   "outputs": [],
   "source": [
    "def securitygraph_listsecurescorecontrolprofiles(access_token):\n",
    "    url = \"https://graph.microsoft.com/v1.0/security/secureScoreControlProfiles\"\n",
    "    req = urllib.request.Request(url, headers={'Authorization' : \"Bearer \" + access_token, 'Content-Type':'application/json'})\n",
    "    response = urllib.request.urlopen(req)\n",
    "    jsonResponse = json.loads(response.read())\n",
    "    return pd.DataFrame.from_records(jsonResponse['value'])"
   ]
  },
  {
   "cell_type": "code",
   "execution_count": null,
   "id": "dominant-volleyball",
   "metadata": {},
   "outputs": [],
   "source": [
    "df_securescorecontrolprofiles = securitygraph_listsecurescorecontrolprofiles(access_token)"
   ]
  },
  {
   "cell_type": "code",
   "execution_count": null,
   "id": "daily-birth",
   "metadata": {},
   "outputs": [],
   "source": [
    "df_securescorecontrolprofiles"
   ]
  }
 ],
 "metadata": {
  "kernelspec": {
   "display_name": "Python 3",
   "language": "python",
   "name": "python3"
  },
  "language_info": {
   "codemirror_mode": {
    "name": "ipython",
    "version": 3
   },
   "file_extension": ".py",
   "mimetype": "text/x-python",
   "name": "python",
   "nbconvert_exporter": "python",
   "pygments_lexer": "ipython3",
   "version": "3.8.6"
  }
 },
 "nbformat": 4,
 "nbformat_minor": 5
}
