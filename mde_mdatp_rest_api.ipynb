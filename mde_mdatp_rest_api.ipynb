{
 "cells": [
  {
   "cell_type": "markdown",
   "metadata": {},
   "source": [
    "# Playing with Microsoft Defender for Endpoint (MDE) (old MDATP) REST API\n",
    "https://docs.microsoft.com/en-us/windows/security/threat-protection/microsoft-defender-atp/apis-intro\n",
    "\n",
    "Requirements: the APP should have the following 'API permissions':\n",
    " - WindowsDefenderATP\n",
    "   - ****.Read.All (for example AdvancedQuery.Read.All, Alert.Read.All, File.Read.All, ...)\n",
    "   \n",
    "**VERY** Important either the global admin allows these list of API permission OR you should give a link to him/her (NOTE to change the app clientid) :\n",
    "$https://login.microsoftonline.com/common/oauth2/authorize?prompt=consent&client_id=<HERE-THE-CLIENT-ID>&response_type=code&sso_reload=true$"
   ]
  },
  {
   "cell_type": "markdown",
   "metadata": {},
   "source": [
    "This REST API have 13 exposed APIs. We show bellow the link to each individual exposed API. Each API have multiple methods. \n",
    "\n",
    "|#|Topic|Description|Link|\n",
    "|:-|:-|:-|:-|\n",
    "|1|Advanced Hunting|Run queries from API.|[link](https://docs.microsoft.com/en-us/windows/security/threat-protection/microsoft-defender-atp/run-advanced-query-api)|\n",
    "|2|Alerts|Run API calls such as get alerts, create alert, update alert and more.|[link](https://docs.microsoft.com/en-us/windows/security/threat-protection/microsoft-defender-atp/alerts)|\n",
    "|3|Domains|Run API calls such as get domain-related devices, domain statistics and more.|[link](https://docs.microsoft.com/en-us/windows/security/threat-protection/microsoft-defender-atp/get-domain-related-alerts)|\n",
    "|4|Files|Run API calls such as get file information, file related alerts, file related devices, and file statistics.|[link](https://docs.microsoft.com/en-us/windows/security/threat-protection/microsoft-defender-atp/files)|\n",
    "|5|IPs|Run API calls such as get IP-related alerts and get IP statistics.|[link](https://docs.microsoft.com/en-us/windows/security/threat-protection/microsoft-defender-atp/get-ip-related-alerts)|\n",
    "|6|Machines|Run API calls such as get devices, get devices by ID, information about logged on users, edit tags and more.|[link](https://docs.microsoft.com/en-us/windows/security/threat-protection/microsoft-defender-atp/machine)|\n",
    "|7|Machine Actions|Run API call such as Isolation, Run anti-virus scan and more.|[link](https://docs.microsoft.com/en-us/windows/security/threat-protection/microsoft-defender-atp/machineaction)|\n",
    "|8|Indicators|Run API call such as create Indicator, get Indicators and delete Indicators.|[link](https://docs.microsoft.com/en-us/windows/security/threat-protection/microsoft-defender-atp/ti-indicator)|\n",
    "|9|Users|Run API calls such as get user-related alerts and user-related devices.|[link](https://docs.microsoft.com/en-us/windows/security/threat-protection/microsoft-defender-atp/user)|\n",
    "|10|Score|Run API calls such as get exposure score or get device secure score.|[link](https://docs.microsoft.com/en-us/windows/security/threat-protection/microsoft-defender-atp/score)|\n",
    "|11|Software|Run API calls such as list vulnerabilities by software.|[link](https://docs.microsoft.com/en-us/windows/security/threat-protection/microsoft-defender-atp/software)|\n",
    "|12|Vulnerability|Run API calls such as list devices by vulnerability.|[link](https://docs.microsoft.com/en-us/windows/security/threat-protection/microsoft-defender-atp/vulnerability)|\n",
    "|13|Recommendation|Run API calls such as Get recommendation by ID.|[link](https://docs.microsoft.com/en-us/windows/security/threat-protection/microsoft-defender-atp/recommendation)|"
   ]
  },
  {
   "cell_type": "markdown",
   "metadata": {},
   "source": [
    "# Required information"
   ]
  },
  {
   "cell_type": "code",
   "execution_count": 1,
   "metadata": {},
   "outputs": [],
   "source": [
    "appId='0fd88ba8-1455-4d87-8d73-6184b7601906'\n",
    "tenantId='9daf1bf5-4bea-48be-bff4-9d8d19b77c68'\n",
    "appSecret='ku_uuxs90v6bUM1Oor0~63N-OnG4VB_.2g'"
   ]
  },
  {
   "cell_type": "markdown",
   "metadata": {},
   "source": [
    "# Required libraries"
   ]
  },
  {
   "cell_type": "code",
   "execution_count": 2,
   "metadata": {},
   "outputs": [],
   "source": [
    "import pandas as pd\n",
    "import json\n",
    "import urllib.parse"
   ]
  },
  {
   "cell_type": "markdown",
   "metadata": {},
   "source": [
    "<h1 align='center'>========================================================<br>=======================================================</h1>"
   ]
  },
  {
   "cell_type": "markdown",
   "metadata": {},
   "source": [
    "# Function to get the token to access via the app"
   ]
  },
  {
   "cell_type": "code",
   "execution_count": 3,
   "metadata": {},
   "outputs": [],
   "source": [
    "def mde_getaadtoken(tenantId, appId, appSecret):\n",
    "    url = \"https://login.windows.net/%s/oauth2/token\" % (tenantId)\n",
    "    resourceAppIdUri = 'https://api.securitycenter.windows.com'\n",
    "    body = {\n",
    "        'resource' : resourceAppIdUri,\n",
    "        'client_id' : appId,\n",
    "        'client_secret' : appSecret,\n",
    "        'grant_type' : 'client_credentials'\n",
    "    }\n",
    "    data = urllib.parse.urlencode(body).encode(\"utf-8\")\n",
    "    req = urllib.request.Request(url, data)\n",
    "    response = urllib.request.urlopen(req)\n",
    "    jsonResponse = json.loads(response.read())\n",
    "    aadToken = jsonResponse[\"access_token\"]\n",
    "    return aadToken"
   ]
  },
  {
   "cell_type": "markdown",
   "metadata": {},
   "source": [
    "# Instantiating previous function"
   ]
  },
  {
   "cell_type": "code",
   "execution_count": 4,
   "metadata": {},
   "outputs": [],
   "source": [
    "access_token = mde_getaadtoken(tenantId, appId, appSecret)"
   ]
  },
  {
   "cell_type": "markdown",
   "metadata": {},
   "source": [
    "<h1 align='center'>========================================================<br>=======================================================<br> ADVANCED HUNTING API</h1>\n",
    "\n",
    "Note: this API is the same as the of from the M365D. Examples of queries [here!](https://github.com/microsoft/Microsoft-365-Defender-Hunting-Queries)"
   ]
  },
  {
   "cell_type": "markdown",
   "metadata": {},
   "source": [
    "# Function Run (KQL)\n",
    "https://docs.microsoft.com/en-us/windows/security/threat-protection/microsoft-defender-atp/run-advanced-query-api"
   ]
  },
  {
   "cell_type": "code",
   "execution_count": 5,
   "metadata": {},
   "outputs": [],
   "source": [
    "def mde_advancedquery_run(access_token,kql_query):\n",
    "    url = \"https://api.securitycenter.microsoft.com/api/advancedqueries/run\"\n",
    "    req = urllib.request.Request(url, \n",
    "                                 headers={'Authorization' : \"Bearer \" + access_token, 'Content-Type':'application/json'},\n",
    "                                 data=bytes(json.dumps({\"Query\": kql_query}), encoding=\"utf-8\"))\n",
    "    response = urllib.request.urlopen(req)\n",
    "    jsonResponse = json.loads(response.read())\n",
    "    return pd.DataFrame.from_records(jsonResponse['Results'])"
   ]
  },
  {
   "cell_type": "markdown",
   "metadata": {},
   "source": [
    "# Example of instantiating this function"
   ]
  },
  {
   "cell_type": "code",
   "execution_count": 6,
   "metadata": {},
   "outputs": [],
   "source": [
    "kql_query = \"\"\"\n",
    "DeviceProcessEvents\n",
    "|limit 10\n",
    "\"\"\""
   ]
  },
  {
   "cell_type": "code",
   "execution_count": 7,
   "metadata": {},
   "outputs": [
    {
     "data": {
      "text/html": [
       "<div>\n",
       "<style scoped>\n",
       "    .dataframe tbody tr th:only-of-type {\n",
       "        vertical-align: middle;\n",
       "    }\n",
       "\n",
       "    .dataframe tbody tr th {\n",
       "        vertical-align: top;\n",
       "    }\n",
       "\n",
       "    .dataframe thead th {\n",
       "        text-align: right;\n",
       "    }\n",
       "</style>\n",
       "<table border=\"1\" class=\"dataframe\">\n",
       "  <thead>\n",
       "    <tr style=\"text-align: right;\">\n",
       "      <th></th>\n",
       "      <th>Timestamp</th>\n",
       "      <th>DeviceId</th>\n",
       "      <th>DeviceName</th>\n",
       "      <th>ActionType</th>\n",
       "      <th>FileName</th>\n",
       "      <th>FolderPath</th>\n",
       "      <th>SHA1</th>\n",
       "      <th>SHA256</th>\n",
       "      <th>MD5</th>\n",
       "      <th>FileSize</th>\n",
       "      <th>...</th>\n",
       "      <th>InitiatingProcessCreationTime</th>\n",
       "      <th>InitiatingProcessFolderPath</th>\n",
       "      <th>InitiatingProcessParentId</th>\n",
       "      <th>InitiatingProcessParentFileName</th>\n",
       "      <th>InitiatingProcessParentCreationTime</th>\n",
       "      <th>InitiatingProcessSignerType</th>\n",
       "      <th>InitiatingProcessSignatureStatus</th>\n",
       "      <th>ReportId</th>\n",
       "      <th>AppGuardContainerId</th>\n",
       "      <th>AdditionalFields</th>\n",
       "    </tr>\n",
       "  </thead>\n",
       "  <tbody>\n",
       "    <tr>\n",
       "      <th>0</th>\n",
       "      <td>2021-02-19T12:53:40.1887653Z</td>\n",
       "      <td>ef96648e47c6d74bb49de453d981359438fb6369</td>\n",
       "      <td>win10pro</td>\n",
       "      <td>ProcessCreated</td>\n",
       "      <td>SenseIR.exe</td>\n",
       "      <td>C:\\Program Files\\Windows Defender Advanced Thr...</td>\n",
       "      <td>b79faf73f4818f52012837ebad4e1f3381946b14</td>\n",
       "      <td>a33ba0fed96a74f81e698c4e27538a7d6d5da93cbcc4ca...</td>\n",
       "      <td>0af0fdcc87c2dae5191753024be45ad7</td>\n",
       "      <td>3760128</td>\n",
       "      <td>...</td>\n",
       "      <td>2021-02-15T15:01:16.7530145Z</td>\n",
       "      <td>c:\\program files\\windows defender advanced thr...</td>\n",
       "      <td>752</td>\n",
       "      <td>services.exe</td>\n",
       "      <td>2021-02-15T14:45:19.0273871Z</td>\n",
       "      <td>Unknown</td>\n",
       "      <td>Unknown</td>\n",
       "      <td>35092</td>\n",
       "      <td></td>\n",
       "      <td></td>\n",
       "    </tr>\n",
       "    <tr>\n",
       "      <th>1</th>\n",
       "      <td>2021-02-19T12:53:52.2239679Z</td>\n",
       "      <td>ef96648e47c6d74bb49de453d981359438fb6369</td>\n",
       "      <td>win10pro</td>\n",
       "      <td>ProcessCreated</td>\n",
       "      <td>powershell.exe</td>\n",
       "      <td>C:\\Windows\\System32\\WindowsPowerShell\\v1.0\\pow...</td>\n",
       "      <td>f43d9bb316e30ae1a3494ac5b0624f6bea1bf054</td>\n",
       "      <td>9f914d42706fe215501044acd85a32d58aaef1419d404f...</td>\n",
       "      <td>04029e121a0cfa5991749937dd22a1d9</td>\n",
       "      <td>452608</td>\n",
       "      <td>...</td>\n",
       "      <td>2021-02-19T12:53:39.756309Z</td>\n",
       "      <td>c:\\program files\\windows defender advanced thr...</td>\n",
       "      <td>8668</td>\n",
       "      <td>MsSense.exe</td>\n",
       "      <td>2021-02-15T15:01:16.7530145Z</td>\n",
       "      <td>OsVendor</td>\n",
       "      <td>Valid</td>\n",
       "      <td>35095</td>\n",
       "      <td></td>\n",
       "      <td></td>\n",
       "    </tr>\n",
       "    <tr>\n",
       "      <th>2</th>\n",
       "      <td>2021-02-19T12:53:52.2242786Z</td>\n",
       "      <td>ef96648e47c6d74bb49de453d981359438fb6369</td>\n",
       "      <td>win10pro</td>\n",
       "      <td>ProcessCreated</td>\n",
       "      <td>conhost.exe</td>\n",
       "      <td>C:\\Windows\\System32\\conhost.exe</td>\n",
       "      <td>9d48d4b78cbbfb22c9ee9070f713b35cd2a6a6eb</td>\n",
       "      <td>16c7a815a4a313d2c79816b3839376cc4d732dc0b136ee...</td>\n",
       "      <td>ce1a079265e7a92863baad92de538d72</td>\n",
       "      <td>843264</td>\n",
       "      <td>...</td>\n",
       "      <td>2021-02-19T12:53:51.6245894Z</td>\n",
       "      <td>c:\\windows\\system32\\windowspowershell\\v1.0\\pow...</td>\n",
       "      <td>10604</td>\n",
       "      <td>SenseIR.exe</td>\n",
       "      <td>2021-02-19T12:53:39.756309Z</td>\n",
       "      <td>OsVendor</td>\n",
       "      <td>Valid</td>\n",
       "      <td>35096</td>\n",
       "      <td></td>\n",
       "      <td></td>\n",
       "    </tr>\n",
       "    <tr>\n",
       "      <th>3</th>\n",
       "      <td>2021-02-19T12:53:54.8443253Z</td>\n",
       "      <td>ef96648e47c6d74bb49de453d981359438fb6369</td>\n",
       "      <td>win10pro</td>\n",
       "      <td>ProcessCreated</td>\n",
       "      <td>csc.exe</td>\n",
       "      <td>C:\\Windows\\Microsoft.NET\\Framework64\\v4.0.3031...</td>\n",
       "      <td>528973416456c780051889ca1709510b6bf73370</td>\n",
       "      <td>4a6d0864e19c0368a47217c129b075dddf61a6a262388f...</td>\n",
       "      <td>f65b029562077b648a6a5f6a1aa76a66</td>\n",
       "      <td>2759232</td>\n",
       "      <td>...</td>\n",
       "      <td>2021-02-19T12:53:51.6245894Z</td>\n",
       "      <td>c:\\windows\\system32\\windowspowershell\\v1.0\\pow...</td>\n",
       "      <td>10604</td>\n",
       "      <td>SenseIR.exe</td>\n",
       "      <td>2021-02-19T12:53:39.756309Z</td>\n",
       "      <td>OsVendor</td>\n",
       "      <td>Valid</td>\n",
       "      <td>35116</td>\n",
       "      <td></td>\n",
       "      <td></td>\n",
       "    </tr>\n",
       "    <tr>\n",
       "      <th>4</th>\n",
       "      <td>2021-02-19T12:53:54.8475361Z</td>\n",
       "      <td>ef96648e47c6d74bb49de453d981359438fb6369</td>\n",
       "      <td>win10pro</td>\n",
       "      <td>ProcessCreated</td>\n",
       "      <td>cvtres.exe</td>\n",
       "      <td>C:\\Windows\\Microsoft.NET\\Framework64\\v4.0.3031...</td>\n",
       "      <td>2a3249732f5aa4588a4a9895ffe217355041d663</td>\n",
       "      <td>1fe531eac592b480aa4bd16052b909c3431434f17e7ae1...</td>\n",
       "      <td>c877cbb966ea5939aa2a17b6a5160950</td>\n",
       "      <td>52744</td>\n",
       "      <td>...</td>\n",
       "      <td>2021-02-19T12:53:54.2442772Z</td>\n",
       "      <td>c:\\windows\\microsoft.net\\framework64\\v4.0.3031...</td>\n",
       "      <td>6608</td>\n",
       "      <td>powershell.exe</td>\n",
       "      <td>2021-02-19T12:53:51.6245894Z</td>\n",
       "      <td>OsVendorApplication</td>\n",
       "      <td>Valid</td>\n",
       "      <td>35117</td>\n",
       "      <td></td>\n",
       "      <td></td>\n",
       "    </tr>\n",
       "  </tbody>\n",
       "</table>\n",
       "<p>5 rows × 58 columns</p>\n",
       "</div>"
      ],
      "text/plain": [
       "                      Timestamp                                  DeviceId  \\\n",
       "0  2021-02-19T12:53:40.1887653Z  ef96648e47c6d74bb49de453d981359438fb6369   \n",
       "1  2021-02-19T12:53:52.2239679Z  ef96648e47c6d74bb49de453d981359438fb6369   \n",
       "2  2021-02-19T12:53:52.2242786Z  ef96648e47c6d74bb49de453d981359438fb6369   \n",
       "3  2021-02-19T12:53:54.8443253Z  ef96648e47c6d74bb49de453d981359438fb6369   \n",
       "4  2021-02-19T12:53:54.8475361Z  ef96648e47c6d74bb49de453d981359438fb6369   \n",
       "\n",
       "  DeviceName      ActionType        FileName  \\\n",
       "0   win10pro  ProcessCreated     SenseIR.exe   \n",
       "1   win10pro  ProcessCreated  powershell.exe   \n",
       "2   win10pro  ProcessCreated     conhost.exe   \n",
       "3   win10pro  ProcessCreated         csc.exe   \n",
       "4   win10pro  ProcessCreated      cvtres.exe   \n",
       "\n",
       "                                          FolderPath  \\\n",
       "0  C:\\Program Files\\Windows Defender Advanced Thr...   \n",
       "1  C:\\Windows\\System32\\WindowsPowerShell\\v1.0\\pow...   \n",
       "2                    C:\\Windows\\System32\\conhost.exe   \n",
       "3  C:\\Windows\\Microsoft.NET\\Framework64\\v4.0.3031...   \n",
       "4  C:\\Windows\\Microsoft.NET\\Framework64\\v4.0.3031...   \n",
       "\n",
       "                                       SHA1  \\\n",
       "0  b79faf73f4818f52012837ebad4e1f3381946b14   \n",
       "1  f43d9bb316e30ae1a3494ac5b0624f6bea1bf054   \n",
       "2  9d48d4b78cbbfb22c9ee9070f713b35cd2a6a6eb   \n",
       "3  528973416456c780051889ca1709510b6bf73370   \n",
       "4  2a3249732f5aa4588a4a9895ffe217355041d663   \n",
       "\n",
       "                                              SHA256  \\\n",
       "0  a33ba0fed96a74f81e698c4e27538a7d6d5da93cbcc4ca...   \n",
       "1  9f914d42706fe215501044acd85a32d58aaef1419d404f...   \n",
       "2  16c7a815a4a313d2c79816b3839376cc4d732dc0b136ee...   \n",
       "3  4a6d0864e19c0368a47217c129b075dddf61a6a262388f...   \n",
       "4  1fe531eac592b480aa4bd16052b909c3431434f17e7ae1...   \n",
       "\n",
       "                                MD5  FileSize  ...  \\\n",
       "0  0af0fdcc87c2dae5191753024be45ad7   3760128  ...   \n",
       "1  04029e121a0cfa5991749937dd22a1d9    452608  ...   \n",
       "2  ce1a079265e7a92863baad92de538d72    843264  ...   \n",
       "3  f65b029562077b648a6a5f6a1aa76a66   2759232  ...   \n",
       "4  c877cbb966ea5939aa2a17b6a5160950     52744  ...   \n",
       "\n",
       "  InitiatingProcessCreationTime  \\\n",
       "0  2021-02-15T15:01:16.7530145Z   \n",
       "1   2021-02-19T12:53:39.756309Z   \n",
       "2  2021-02-19T12:53:51.6245894Z   \n",
       "3  2021-02-19T12:53:51.6245894Z   \n",
       "4  2021-02-19T12:53:54.2442772Z   \n",
       "\n",
       "                         InitiatingProcessFolderPath  \\\n",
       "0  c:\\program files\\windows defender advanced thr...   \n",
       "1  c:\\program files\\windows defender advanced thr...   \n",
       "2  c:\\windows\\system32\\windowspowershell\\v1.0\\pow...   \n",
       "3  c:\\windows\\system32\\windowspowershell\\v1.0\\pow...   \n",
       "4  c:\\windows\\microsoft.net\\framework64\\v4.0.3031...   \n",
       "\n",
       "  InitiatingProcessParentId InitiatingProcessParentFileName  \\\n",
       "0                       752                    services.exe   \n",
       "1                      8668                     MsSense.exe   \n",
       "2                     10604                     SenseIR.exe   \n",
       "3                     10604                     SenseIR.exe   \n",
       "4                      6608                  powershell.exe   \n",
       "\n",
       "  InitiatingProcessParentCreationTime InitiatingProcessSignerType  \\\n",
       "0        2021-02-15T14:45:19.0273871Z                     Unknown   \n",
       "1        2021-02-15T15:01:16.7530145Z                    OsVendor   \n",
       "2         2021-02-19T12:53:39.756309Z                    OsVendor   \n",
       "3         2021-02-19T12:53:39.756309Z                    OsVendor   \n",
       "4        2021-02-19T12:53:51.6245894Z         OsVendorApplication   \n",
       "\n",
       "   InitiatingProcessSignatureStatus ReportId AppGuardContainerId  \\\n",
       "0                           Unknown    35092                       \n",
       "1                             Valid    35095                       \n",
       "2                             Valid    35096                       \n",
       "3                             Valid    35116                       \n",
       "4                             Valid    35117                       \n",
       "\n",
       "  AdditionalFields  \n",
       "0                   \n",
       "1                   \n",
       "2                   \n",
       "3                   \n",
       "4                   \n",
       "\n",
       "[5 rows x 58 columns]"
      ]
     },
     "execution_count": 7,
     "metadata": {},
     "output_type": "execute_result"
    }
   ],
   "source": [
    "df_mde_advancedquery_run = mde_advancedquery_run(access_token,kql_query)\n",
    "df_mde_advancedquery_run.head()"
   ]
  },
  {
   "cell_type": "markdown",
   "metadata": {},
   "source": [
    "<h1 align='center'>========================================================<br>=======================================================<br>ALERT API</h1>"
   ]
  },
  {
   "cell_type": "markdown",
   "metadata": {},
   "source": [
    "List of methods in the Alert API (https://docs.microsoft.com/en-us/windows/security/threat-protection/microsoft-defender-atp/alerts)"
   ]
  },
  {
   "cell_type": "markdown",
   "metadata": {},
   "source": [
    "|Method\t| Return Type |Description  |\n",
    "|:- |:-|:-|\n",
    "|Get alert|\tAlert|\tGet a single alert object.|\n",
    "|List alerts|\tAlert| collection\tList alert collection.|\n",
    "|Update alert|\tAlert|\tUpdate specific alert.|\n",
    "|Create alert|\tAlert|\tCreate an alert based on event data obtained from Advanced Hunting.|\n",
    "|List related domains|\tDomain collection|\tList URLs associated with the alert.|\n",
    "|List related files|\tFile collection|\tList the file entities that are associated with the alert.|\n",
    "|List related IPs|\tIP collection|\tList IPs that are associated with the alert.|\n",
    "|Get related machines|\tMachine|\tThe machine that is associated with the alert.|\n",
    "|Get related users|\tUser|\tThe user that is associated with the alert.|"
   ]
  },
  {
   "cell_type": "markdown",
   "metadata": {},
   "source": [
    "<h1 align='center'>...........................................................</h1>"
   ]
  },
  {
   "cell_type": "markdown",
   "metadata": {},
   "source": [
    "# FUNCTION List alerts"
   ]
  },
  {
   "cell_type": "code",
   "execution_count": null,
   "metadata": {},
   "outputs": [],
   "source": [
    "def mde_alerts_listalerts(access_token):\n",
    "    url = \"https://api.securitycenter.windows.com/api/alerts\"\n",
    "    req = urllib.request.Request(url, headers={'Authorization' : \"Bearer \" + access_token})\n",
    "    response = urllib.request.urlopen(req)\n",
    "    jsonResponse = json.loads(response.read())\n",
    "    return pd.DataFrame.from_records(jsonResponse['value'])"
   ]
  },
  {
   "cell_type": "markdown",
   "metadata": {},
   "source": [
    "# Instantiating the above function"
   ]
  },
  {
   "cell_type": "code",
   "execution_count": null,
   "metadata": {},
   "outputs": [],
   "source": [
    "df_alerts = mde_alerts_listalerts(access_token)"
   ]
  },
  {
   "cell_type": "markdown",
   "metadata": {},
   "source": [
    "# How the list of alerts looks like?"
   ]
  },
  {
   "cell_type": "code",
   "execution_count": null,
   "metadata": {},
   "outputs": [],
   "source": [
    "df_alerts.head()"
   ]
  },
  {
   "cell_type": "markdown",
   "metadata": {},
   "source": [
    "<h1 align='center'>...........................................................</h1>"
   ]
  },
  {
   "cell_type": "markdown",
   "metadata": {},
   "source": [
    "# FUNCTION Get alert"
   ]
  },
  {
   "cell_type": "code",
   "execution_count": null,
   "metadata": {},
   "outputs": [],
   "source": [
    "def mde_alerts_getalert(access_token,alert_id):\n",
    "    url = \"https://api.securitycenter.windows.com/api/alerts/\"+str(alert_id)\n",
    "    req = urllib.request.Request(url, headers={'Authorization' : \"Bearer \" + access_token})\n",
    "    response = urllib.request.urlopen(req)\n",
    "    jsonResponse = json.loads(response.read())\n",
    "    return pd.DataFrame.from_dict(jsonResponse,orient='index').transpose()"
   ]
  },
  {
   "cell_type": "markdown",
   "metadata": {},
   "source": [
    "# Instantiating the previous function"
   ]
  },
  {
   "cell_type": "code",
   "execution_count": null,
   "metadata": {},
   "outputs": [],
   "source": [
    "mde_alerts_getalert(access_token,df_alerts['id'][0])"
   ]
  },
  {
   "cell_type": "markdown",
   "metadata": {},
   "source": [
    "<h1 align='center'>...........................................................</h1>"
   ]
  },
  {
   "cell_type": "markdown",
   "metadata": {},
   "source": [
    "# FUNCTION List related domains"
   ]
  },
  {
   "cell_type": "code",
   "execution_count": null,
   "metadata": {},
   "outputs": [],
   "source": [
    "def mde_alerts_listrelateddomains(access_token,alarm_id):\n",
    "    url = \"https://api.securitycenter.windows.com/api/alerts/\"+str(alarm_id)+\"/domains\"\n",
    "    req = urllib.request.Request(url, headers={'Authorization' : \"Bearer \" + access_token})\n",
    "    response = urllib.request.urlopen(req)\n",
    "    jsonResponse = json.loads(response.read())\n",
    "    return pd.DataFrame.from_records(jsonResponse['value'])"
   ]
  },
  {
   "cell_type": "markdown",
   "metadata": {},
   "source": [
    "# Instantiating the previous function"
   ]
  },
  {
   "cell_type": "code",
   "execution_count": null,
   "metadata": {},
   "outputs": [],
   "source": [
    "mde_alerts_listrelateddomains(access_token,df_alerts['id'][0])"
   ]
  },
  {
   "cell_type": "markdown",
   "metadata": {},
   "source": [
    "<h1 align='center'>...........................................................</h1>\n"
   ]
  },
  {
   "cell_type": "markdown",
   "metadata": {},
   "source": [
    "# FUNCTION List related files"
   ]
  },
  {
   "cell_type": "code",
   "execution_count": null,
   "metadata": {},
   "outputs": [],
   "source": [
    "def mde_alerts_listrelatedfiles(access_token,alert_id):\n",
    "    url = \"https://api.securitycenter.windows.com/api/alerts/\"+str(alert_id)+\"/files\"\n",
    "    req = urllib.request.Request(url, headers={'Authorization' : \"Bearer \" + access_token})\n",
    "    response = urllib.request.urlopen(req)\n",
    "    jsonResponse = json.loads(response.read())\n",
    "    return pd.DataFrame.from_records(jsonResponse['value'])"
   ]
  },
  {
   "cell_type": "markdown",
   "metadata": {},
   "source": [
    "# Instantiating the previous function"
   ]
  },
  {
   "cell_type": "code",
   "execution_count": null,
   "metadata": {},
   "outputs": [],
   "source": [
    "mde_alerts_listrelatedfiles(access_token,df_alerts['id'][0])"
   ]
  },
  {
   "cell_type": "markdown",
   "metadata": {},
   "source": [
    "<h1 align='center'>...........................................................</h1>"
   ]
  },
  {
   "cell_type": "markdown",
   "metadata": {},
   "source": [
    "# FUNCTION List related IPs"
   ]
  },
  {
   "cell_type": "code",
   "execution_count": null,
   "metadata": {},
   "outputs": [],
   "source": [
    "def mde_alerts_listrelatedips(access_token,alarm_id):\n",
    "    url = \"https://api.securitycenter.windows.com/api/alerts/\"+str(alarm_id)+\"/ips\"\n",
    "    req = urllib.request.Request(url, headers={'Authorization' : \"Bearer \" + access_token})\n",
    "    response = urllib.request.urlopen(req)\n",
    "    jsonResponse = json.loads(response.read())\n",
    "    return pd.DataFrame.from_records(jsonResponse['value'])"
   ]
  },
  {
   "cell_type": "markdown",
   "metadata": {},
   "source": [
    "# Instantiating the previous function"
   ]
  },
  {
   "cell_type": "code",
   "execution_count": null,
   "metadata": {},
   "outputs": [],
   "source": [
    "mde_alerts_listrelatedips(access_token,df_alerts['id'][0])"
   ]
  },
  {
   "cell_type": "markdown",
   "metadata": {},
   "source": [
    "<h1 align='center'>...........................................................</h1>"
   ]
  },
  {
   "cell_type": "markdown",
   "metadata": {},
   "source": [
    "# FUNCTION Get related machines"
   ]
  },
  {
   "cell_type": "code",
   "execution_count": null,
   "metadata": {},
   "outputs": [],
   "source": [
    "def mde_alerts_getrelatedmachines(access_token,alarm_id):\n",
    "    url = \"https://api.securitycenter.windows.com/api/alerts/\"+str(alarm_id)+\"/machine\"\n",
    "    req = urllib.request.Request(url, headers={'Authorization' : \"Bearer \" + access_token})\n",
    "    response = urllib.request.urlopen(req)\n",
    "    jsonResponse = json.loads(response.read())\n",
    "    return pd.DataFrame.from_dict(jsonResponse,orient='index').transpose()"
   ]
  },
  {
   "cell_type": "markdown",
   "metadata": {},
   "source": [
    "# Instantiating the previous function"
   ]
  },
  {
   "cell_type": "code",
   "execution_count": null,
   "metadata": {},
   "outputs": [],
   "source": [
    "mde_alerts_getrelatedmachines(access_token,df_alerts['id'][0])"
   ]
  },
  {
   "cell_type": "markdown",
   "metadata": {},
   "source": [
    "<h1 align='center'>========================================================<br>=======================================================</h1>"
   ]
  },
  {
   "cell_type": "markdown",
   "metadata": {},
   "source": [
    "# List of methods in the Machine API\n",
    "https://docs.microsoft.com/en-us/windows/security/threat-protection/microsoft-defender-atp/machine"
   ]
  },
  {
   "cell_type": "markdown",
   "metadata": {},
   "source": [
    "|Method|\tReturn Type|\tDescription|\n",
    "|:- |:-|:-|\n",
    "|List machines|\tmachine collection|\tList set of machine entities in the org.|\n",
    "|Get machine|\tmachine\t|Get a machine by its identity.|\n",
    "|Get logged on users|\tuser collection|\tGet the set of User that logged on to the machine.|\n",
    "|Get related alerts\t|alert collection|\tGet the set of alert entities that were raised on the machine.|\n",
    "|Get installed software|\tsoftware collection|\tRetrieves a collection of installed software related to a given machine ID.|\n",
    "|Get discovered vulnerabilities|\tvulnerability collection|\tRetrieves a collection of discovered vulnerabilities related to a given machine ID.|\n",
    "|Get security recommendations|\trecommendation collection|\tRetrieves a collection of security recommendations related to a given machine ID.|\n",
    "|Add or Remove machine tags|\tmachine|\tAdd or Remove tag to a specific machine.|\n",
    "|Find machines by IP|\tmachine collection|\tFind machines seen with IP.|\n",
    "|Find machines by tag|\tmachine collection|\tFind machines by Tag.|\n",
    "|Get missing KBs|\tKB collection|\tGet a list of missing KBs associated with the machine ID.|\n",
    "|Set device value|\tmachine collection|\tSet the value of a device.|"
   ]
  },
  {
   "cell_type": "markdown",
   "metadata": {},
   "source": [
    "<h1 align='center'>...........................................................</h1>"
   ]
  },
  {
   "cell_type": "markdown",
   "metadata": {},
   "source": [
    "# FUNCTION List machines"
   ]
  },
  {
   "cell_type": "code",
   "execution_count": null,
   "metadata": {},
   "outputs": [],
   "source": [
    "def mde_machines_listmachines(access_token):\n",
    "    url = \"https://api.securitycenter.microsoft.com/api/machines\"\n",
    "    req = urllib.request.Request(url, headers={'Authorization' : \"Bearer \" + access_token})\n",
    "    response = urllib.request.urlopen(req)\n",
    "    jsonResponse = json.loads(response.read())\n",
    "    return pd.DataFrame.from_records(jsonResponse['value'])"
   ]
  },
  {
   "cell_type": "markdown",
   "metadata": {},
   "source": [
    "# Instantiating the previous function"
   ]
  },
  {
   "cell_type": "code",
   "execution_count": null,
   "metadata": {},
   "outputs": [],
   "source": [
    "df_machines = mde_machines_listmachines(access_token)\n",
    "df_machines"
   ]
  },
  {
   "cell_type": "markdown",
   "metadata": {},
   "source": [
    "<h1 align='center'>...........................................................</h1>"
   ]
  },
  {
   "cell_type": "markdown",
   "metadata": {},
   "source": [
    "# FUNCTION Get machines"
   ]
  },
  {
   "cell_type": "code",
   "execution_count": null,
   "metadata": {},
   "outputs": [],
   "source": [
    "def mde_machines_getmachine(access_token,machine_id):\n",
    "    url = \"https://api.securitycenter.windows.com/api/machines/\"+str(machine_id)\n",
    "    req = urllib.request.Request(url, headers={'Authorization' : \"Bearer \" + access_token})\n",
    "    response = urllib.request.urlopen(req)\n",
    "    jsonResponse = json.loads(response.read())\n",
    "    return pd.DataFrame.from_dict(jsonResponse,orient='index').transpose()"
   ]
  },
  {
   "cell_type": "markdown",
   "metadata": {},
   "source": [
    "# Instantiating the previous function"
   ]
  },
  {
   "cell_type": "code",
   "execution_count": null,
   "metadata": {},
   "outputs": [],
   "source": [
    "mde_machines_getmachine(access_token,df_machines['id'][0])"
   ]
  }
 ],
 "metadata": {
  "kernelspec": {
   "display_name": "Python 3",
   "language": "python",
   "name": "python3"
  },
  "language_info": {
   "codemirror_mode": {
    "name": "ipython",
    "version": 3
   },
   "file_extension": ".py",
   "mimetype": "text/x-python",
   "name": "python",
   "nbconvert_exporter": "python",
   "pygments_lexer": "ipython3",
   "version": "3.8.6"
  }
 },
 "nbformat": 4,
 "nbformat_minor": 4
}
